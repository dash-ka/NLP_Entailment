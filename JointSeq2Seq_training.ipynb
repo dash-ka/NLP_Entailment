{
 "cells": [
  {
   "cell_type": "markdown",
   "metadata": {},
   "source": [
    "## Textual Entailment Generation system training"
   ]
  },
  {
   "cell_type": "code",
   "execution_count": 1,
   "metadata": {},
   "outputs": [],
   "source": [
    "import torch\n",
    "from joint_seq2seq import *\n",
    "\n",
    "import warnings, matplotlib\n",
    "warnings.filterwarnings(\"ignore\")\n",
    "matplotlib.rcParams.update({'figure.figsize': (16, 12), 'font.size': 14})\n",
    "%matplotlib inline\n",
    "\n",
    "config = {\"BATCH_SIZE\" : 32,\n",
    "          \"HID_DIM\" : 512,\n",
    "          \"N_LAYERS\" : 2,\n",
    "          \"ATTN_TYPE\" : \"luong\",\n",
    "          \"ATTN_FUNC\" : \"dot\",\n",
    "          \"DROPOUT\" : 0.2}"
   ]
  },
  {
   "cell_type": "markdown",
   "metadata": {},
   "source": [
    "##### Load datasets and Build the vocabulary.\n",
    "You can pass a list of paths to train the model on several datasets or partitions of the same dataset (MultiNLI, SNLI). Data should be a .txt file. \\\n",
    "        We are building the vocabulary using both unique terms from the training data as well as N most frequent words from a pretrained Word2Vec model. Therefore, ``.build_vocabulary()`` method of our Vocabulary class, takes the ``min_freq`` to filter low frequency word in the training dataset, while the ``n_most_freq`` parameter tells how many word to extract from Word2Vec vocabulary. \\\n",
    "When initializing the Seq2Seq model, we will need to specify the number of words in the vocabulary that do not have a pretrained embedding."
   ]
  },
  {
   "cell_type": "code",
   "execution_count": 2,
   "metadata": {},
   "outputs": [],
   "source": [
    "# Load pretrained Word2Vec model\n",
    "import gensim.downloader as api\n",
    "wv = api.load('word2vec-google-news-300')"
   ]
  },
  {
   "cell_type": "code",
   "execution_count": 3,
   "metadata": {},
   "outputs": [
    {
     "name": "stdout",
     "output_type": "stream",
     "text": [
      "Loading SNLI dataset.\n",
      "Loading SNLI dataset.\n"
     ]
    },
    {
     "data": {
      "text/plain": [
       "186743"
      ]
     },
     "execution_count": 3,
     "metadata": {},
     "output_type": "execute_result"
    }
   ],
   "source": [
    "paths = [r\".\\snli_1.0_dev.txt\", \n",
    "         r\".\\snli_1.0_train.txt\"]\n",
    "\n",
    "multi_train = JointDataset.load_dataset(paths)\n",
    "len(multi_train)"
   ]
  },
  {
   "cell_type": "code",
   "execution_count": 4,
   "metadata": {},
   "outputs": [
    {
     "name": "stdout",
     "output_type": "stream",
     "text": [
      "Collecting embedding for 10000 most frequent words in Word2Vec vocabulary...\n"
     ]
    },
    {
     "data": {
      "application/vnd.jupyter.widget-view+json": {
       "model_id": "c20cccff39a04ab8bd9a7caa66d6675f",
       "version_major": 2,
       "version_minor": 0
      },
      "text/plain": [
       "HBox(children=(HTML(value=''), FloatProgress(value=0.0, max=3000000.0), HTML(value='')))"
      ]
     },
     "metadata": {},
     "output_type": "display_data"
    },
    {
     "name": "stdout",
     "output_type": "stream",
     "text": [
      "\n",
      "Done!\n"
     ]
    }
   ],
   "source": [
    "vocab = Vocabulary.build_vocabulary(multi_train, wv, min_freq=2, n_most_freq=10000)\n",
    "oov_size = len(vocab.vocabulary) - vocab.pretrained.size(0)"
   ]
  },
  {
   "cell_type": "markdown",
   "metadata": {},
   "source": [
    "#### Initiate Seq2Seq model and choose the loss and the optimizer to use"
   ]
  },
  {
   "cell_type": "code",
   "execution_count": 5,
   "metadata": {},
   "outputs": [
    {
     "name": "stdout",
     "output_type": "stream",
     "text": [
      "You are using cuda device\n",
      "The seq2seq model has 19,307,020 trainable parameters\n"
     ]
    },
    {
     "data": {
      "text/plain": [
       "Seq2Seq(\n",
       "  (pretrained_embedding): Embedding(10000, 300, padding_idx=0)\n",
       "  (trainable_embedding): Embedding(8812, 300)\n",
       "  (encoder): EncoderRNN(\n",
       "    (bilstm): LSTM(300, 256, num_layers=2, batch_first=True, dropout=0.2, bidirectional=True)\n",
       "    (dropout): Dropout(p=0.2, inplace=False)\n",
       "  )\n",
       "  (decoder): DecoderLuong(\n",
       "    (attn): GlobalAttention()\n",
       "    (rnn): LSTM(300, 512, num_layers=2, batch_first=True, dropout=0.2)\n",
       "    (proj): Linear(in_features=1024, out_features=512, bias=True)\n",
       "    (out): Linear(in_features=512, out_features=18812, bias=True)\n",
       "    (dropout): Dropout(p=0.2, inplace=False)\n",
       "  )\n",
       "  (dropout): Dropout(p=0.2, inplace=False)\n",
       ")"
      ]
     },
     "execution_count": 5,
     "metadata": {},
     "output_type": "execute_result"
    }
   ],
   "source": [
    "# set a seed and use a utility function to obtain deterministic results\n",
    "SEED = 1234\n",
    "set_all_seeds(SEED)\n",
    "\n",
    "# use cuda device if available\n",
    "device = torch.device(\"cuda\" if torch.cuda.is_available() else \"cpu\")\n",
    "print(f\"You are using {device} device\")\n",
    "\n",
    "# set up the model with parameters from config\n",
    "model = Seq2Seq(oov_size, len(vocab.vocabulary),\n",
    "                pretrained_w2v = vocab.pretrained,\n",
    "                hidden_size = config[\"HID_DIM\"],\n",
    "                n_layers = config[\"N_LAYERS\"],\n",
    "                dropout = config[\"DROPOUT\"],\n",
    "                device = device)\n",
    "\n",
    "# randomly initialize model parameters and move the model to cuda (if available)\n",
    "model.apply(init_weights)\n",
    "model = model.to(device)\n",
    "\n",
    "# select an optimizer and a loss function for training\n",
    "optimizer = torch.optim.Adam(model.parameters(), lr=1e-3)\n",
    "criterion = nn.NLLLoss(ignore_index = 0)\n",
    "\n",
    "print(f'The seq2seq model has {count_parameters(model):,} trainable parameters')\n",
    "model"
   ]
  },
  {
   "cell_type": "markdown",
   "metadata": {},
   "source": [
    "#### Train the model and save as .tar"
   ]
  },
  {
   "cell_type": "code",
   "execution_count": null,
   "metadata": {},
   "outputs": [],
   "source": [
    "torch.cuda.empty_cache()\n",
    "\n",
    "train_history = []\n",
    "valid_history = []\n",
    "N_EPOCHS = 1\n",
    "\n",
    "for epoch in range(N_EPOCHS):\n",
    "    start_time = time.time()\n",
    "\n",
    "    train_loss = train(model, vocab, multi_train, optimizer, criterion, device, train_history, valid_history)\n",
    "    valid_loss = evaluate(model, vocab, dev_data, criterion, device)\n",
    "    \n",
    "    end_time = time.time()\n",
    "    epoch_mins, epoch_secs = epoch_time(start_time, end_time)\n",
    "\n",
    "    train_history.append(train_loss)\n",
    "    valid_history.append(valid_loss)\n",
    "    print(f'Epoch: {epoch+1:02} | Time: {epoch_mins}m {epoch_secs}s')\n",
    "    print(f'\\tTrain Loss: {train_loss:.3f} ')\n",
    "    print(f'\\tValidation Loss: {valid_loss:.3f} ')"
   ]
  },
  {
   "cell_type": "code",
   "execution_count": null,
   "metadata": {},
   "outputs": [],
   "source": [
    "torch.save({'model': model.state_dict(),\n",
    "            'optimizer': optimizer.state_dict()},\n",
    "           r\".\\checkpoint_Luong_2epochs.tar\")"
   ]
  },
  {
   "cell_type": "markdown",
   "metadata": {},
   "source": [
    "####  Load pretrained checkpoint"
   ]
  },
  {
   "cell_type": "code",
   "execution_count": 6,
   "metadata": {},
   "outputs": [],
   "source": [
    "checkpoint = torch.load(r\".\\checkpoint_Luong_2epochs.tar\")\n",
    "model.load_state_dict(checkpoint['model'])\n",
    "optimizer.load_state_dict(checkpoint['optimizer'])\n",
    "model = model.to(device)"
   ]
  },
  {
   "cell_type": "code",
   "execution_count": 11,
   "metadata": {},
   "outputs": [
    {
     "data": {
      "image/png": "[encoded data removed]",
      "text/plain": [
       "<Figure size 1080x2160 with 1 Axes>"
      ]
     },
     "metadata": {
      "needs_background": "light"
     },
     "output_type": "display_data"
    }
   ],
   "source": [
    "from display_results import display_attention\n",
    "\n",
    "prem = multi_train[78][0]\n",
    "hypo, attention = predict(prem, model, vocab, device, max_len=20)\n",
    "display_attention(prem, hypo, attention)"
   ]
  }
 ],
 "metadata": {
  "kernelspec": {
   "display_name": "Python 3",
   "language": "python",
   "name": "python3"
  },
  "language_info": {
   "codemirror_mode": {
    "name": "ipython",
    "version": 3
   },
   "file_extension": ".py",
   "mimetype": "text/x-python",
   "name": "python",
   "nbconvert_exporter": "python",
   "pygments_lexer": "ipython3",
   "version": "3.8.5"
  }
 },
 "nbformat": 4,
 "nbformat_minor": 4
}
